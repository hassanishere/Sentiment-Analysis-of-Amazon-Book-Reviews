{
  "cells": [
    {
      "cell_type": "code",
      "source": [
        "!pip install transformers"
      ],
      "outputs": [
        {
          "output_type": "display_data",
          "data": {
            "application/vnd.livy.statement-meta+json": {
              "spark_pool": "a30545b6-b56d-480e-96fd-847dfba9cab9",
              "session_id": "9",
              "statement_id": 7,
              "state": "finished",
              "livy_statement_state": "available",
              "queued_time": "2024-03-24T21:10:37.6105628Z",
              "session_start_time": null,
              "execution_start_time": "2024-03-24T21:10:37.7221256Z",
              "execution_finish_time": "2024-03-24T21:10:45.6824048Z",
              "spark_jobs": {
                "numbers": {
                  "FAILED": 0,
                  "SUCCEEDED": 0,
                  "RUNNING": 0,
                  "UNKNOWN": 0
                },
                "jobs": [],
                "limit": 20,
                "rule": "ALL_DESC"
              },
              "parent_msg_id": "7f51ad0c-6238-47a9-9053-e9ec7a2ea7fb"
            },
            "text/plain": "StatementMeta(a30545b6-b56d-480e-96fd-847dfba9cab9, 9, 7, Finished, Available)"
          },
          "metadata": {}
        },
        {
          "output_type": "stream",
          "name": "stdout",
          "text": "Requirement already satisfied: transformers in /home/trusted-service-user/cluster-env/env/lib/python3.10/site-packages (4.39.1)\nRequirement already satisfied: regex!=2019.12.17 in /home/trusted-service-user/cluster-env/env/lib/python3.10/site-packages (from transformers) (2022.10.31)\nRequirement already satisfied: tokenizers<0.19,>=0.14 in /home/trusted-service-user/cluster-env/env/lib/python3.10/site-packages (from transformers) (0.15.2)\nRequirement already satisfied: packaging>=20.0 in /home/trusted-service-user/cluster-env/env/lib/python3.10/site-packages (from transformers) (21.3)\nRequirement already satisfied: huggingface-hub<1.0,>=0.19.3 in /home/trusted-service-user/cluster-env/env/lib/python3.10/site-packages (from transformers) (0.21.4)\nRequirement already satisfied: pyyaml>=5.1 in /home/trusted-service-user/cluster-env/env/lib/python3.10/site-packages (from transformers) (6.0)\nRequirement already satisfied: requests in /home/trusted-service-user/cluster-env/env/lib/python3.10/site-packages (from transformers) (2.28.1)\nRequirement already satisfied: tqdm>=4.27 in /home/trusted-service-user/cluster-env/env/lib/python3.10/site-packages (from transformers) (4.64.1)\nRequirement already satisfied: safetensors>=0.4.1 in /home/trusted-service-user/cluster-env/env/lib/python3.10/site-packages (from transformers) (0.4.2)\nRequirement already satisfied: numpy>=1.17 in /home/trusted-service-user/cluster-env/env/lib/python3.10/site-packages (from transformers) (1.23.4)\nRequirement already satisfied: filelock in /home/trusted-service-user/cluster-env/env/lib/python3.10/site-packages (from transformers) (3.8.0)\nRequirement already satisfied: fsspec>=2023.5.0 in /home/trusted-service-user/cluster-env/env/lib/python3.10/site-packages (from huggingface-hub<1.0,>=0.19.3->transformers) (2024.3.1)\nRequirement already satisfied: typing-extensions>=3.7.4.3 in /home/trusted-service-user/cluster-env/env/lib/python3.10/site-packages (from huggingface-hub<1.0,>=0.19.3->transformers) (4.4.0)\nRequirement already satisfied: pyparsing!=3.0.5,>=2.0.2 in /home/trusted-service-user/cluster-env/env/lib/python3.10/site-packages (from packaging>=20.0->transformers) (3.0.9)\nRequirement already satisfied: certifi>=2017.4.17 in /home/trusted-service-user/cluster-env/env/lib/python3.10/site-packages (from requests->transformers) (2022.9.24)\nRequirement already satisfied: idna<4,>=2.5 in /home/trusted-service-user/cluster-env/env/lib/python3.10/site-packages (from requests->transformers) (3.4)\nRequirement already satisfied: charset-normalizer<3,>=2 in /home/trusted-service-user/cluster-env/env/lib/python3.10/site-packages (from requests->transformers) (2.1.1)\nRequirement already satisfied: urllib3<1.27,>=1.21.1 in /home/trusted-service-user/cluster-env/env/lib/python3.10/site-packages (from requests->transformers) (1.26.4)\n"
        }
      ],
      "execution_count": 2,
      "metadata": {}
    },
    {
      "cell_type": "code",
      "source": [
        "import pandas as pd\n",
        "\n",
        "# Replace 'path_to_file' with the actual path to your file\n",
        "df = pd.read_csv('Users/hassan-kamran/mini_sample.xls')\n",
        "\n",
        "df = df[['reviewText', 'overall']]\n",
        "\n",
        "print(df)"
      ],
      "outputs": [
        {
          "output_type": "display_data",
          "data": {
            "application/vnd.livy.statement-meta+json": {
              "spark_pool": "a30545b6-b56d-480e-96fd-847dfba9cab9",
              "session_id": "9",
              "statement_id": 8,
              "state": "finished",
              "livy_statement_state": "available",
              "queued_time": "2024-03-24T21:10:37.7652053Z",
              "session_start_time": null,
              "execution_start_time": "2024-03-24T21:10:45.7823587Z",
              "execution_finish_time": "2024-03-24T21:10:46.5739704Z",
              "spark_jobs": {
                "numbers": {
                  "FAILED": 0,
                  "SUCCEEDED": 0,
                  "RUNNING": 0,
                  "UNKNOWN": 0
                },
                "jobs": [],
                "limit": 20,
                "rule": "ALL_DESC"
              },
              "parent_msg_id": "444b4010-498b-4787-887b-17dc4abf9779"
            },
            "text/plain": "StatementMeta(a30545b6-b56d-480e-96fd-847dfba9cab9, 9, 8, Finished, Available)"
          },
          "metadata": {}
        },
        {
          "output_type": "stream",
          "name": "stdout",
          "text": "                                             reviewText  overall\n0     This is one my must have books. It is a master...      5.0\n1     This book provides a reflection that you can a...      5.0\n2     I first read THE PROPHET in college back in th...      5.0\n3     A timeless classic.  It is a very demanding an...      5.0\n4     Reading this made my mind feel like a still po...      5.0\n...                                                 ...      ...\n1021  To make my point I'll be as concise as possibl...      1.0\n1022  This is a book that I can't put down, until 2 ...      4.0\n1023  I started this book with the idea that it woul...      4.0\n1024  This novel was beautifully written.  Amy Tan o...      4.0\n1025  The Professor and the Madman deals with the ro...      4.0\n\n[1026 rows x 2 columns]\n"
        }
      ],
      "execution_count": 3,
      "metadata": {
        "jupyter": {
          "source_hidden": false,
          "outputs_hidden": false
        },
        "nteract": {
          "transient": {
            "deleting": false
          }
        },
        "gather": {
          "logged": 1711314648041
        }
      }
    },
    {
      "cell_type": "code",
      "source": [
        "import math\n",
        "import tensorflow as tf\n",
        "from transformers import GPT2Tokenizer, TFGPT2Model"
      ],
      "outputs": [
        {
          "output_type": "display_data",
          "data": {
            "application/vnd.livy.statement-meta+json": {
              "spark_pool": "a30545b6-b56d-480e-96fd-847dfba9cab9",
              "session_id": "9",
              "statement_id": 9,
              "state": "finished",
              "livy_statement_state": "available",
              "queued_time": "2024-03-24T21:10:37.9782527Z",
              "session_start_time": null,
              "execution_start_time": "2024-03-24T21:10:46.6748015Z",
              "execution_finish_time": "2024-03-24T21:10:56.5698504Z",
              "spark_jobs": {
                "numbers": {
                  "FAILED": 0,
                  "SUCCEEDED": 0,
                  "RUNNING": 0,
                  "UNKNOWN": 0
                },
                "jobs": [],
                "limit": 20,
                "rule": "ALL_DESC"
              },
              "parent_msg_id": "a96e9fb4-e59c-44f7-9e2f-31cd8731e4b7"
            },
            "text/plain": "StatementMeta(a30545b6-b56d-480e-96fd-847dfba9cab9, 9, 9, Finished, Available)"
          },
          "metadata": {}
        },
        {
          "output_type": "stream",
          "name": "stderr",
          "text": "2024-03-24 21:10:47.021768: I tensorflow/core/platform/cpu_feature_guard.cc:193] This TensorFlow binary is optimized with oneAPI Deep Neural Network Library (oneDNN) to use the following CPU instructions in performance-critical operations:  SSE4.1 SSE4.2 AVX AVX2 AVX512F FMA\nTo enable them in other operations, rebuild TensorFlow with the appropriate compiler flags.\n"
        }
      ],
      "execution_count": 4,
      "metadata": {
        "jupyter": {
          "source_hidden": false,
          "outputs_hidden": false
        },
        "nteract": {
          "transient": {
            "deleting": false
          }
        },
        "gather": {
          "logged": 1711314658390
        }
      }
    },
    {
      "cell_type": "code",
      "source": [
        "import pandas as pd\n",
        "from sklearn.model_selection import train_test_split\n",
        "# divide into test and train\n",
        "X_train, X_test, y_train, y_test = train_test_split(df['reviewText'], df['overall'],\n",
        "              shuffle=True, test_size=0.2, random_state=42, stratify=df['overall'])\n"
      ],
      "outputs": [
        {
          "output_type": "display_data",
          "data": {
            "application/vnd.livy.statement-meta+json": {
              "spark_pool": "a30545b6-b56d-480e-96fd-847dfba9cab9",
              "session_id": "9",
              "statement_id": 10,
              "state": "finished",
              "livy_statement_state": "available",
              "queued_time": "2024-03-24T21:10:38.3376077Z",
              "session_start_time": null,
              "execution_start_time": "2024-03-24T21:10:56.6889499Z",
              "execution_finish_time": "2024-03-24T21:10:56.9812429Z",
              "spark_jobs": {
                "numbers": {
                  "FAILED": 0,
                  "SUCCEEDED": 0,
                  "RUNNING": 0,
                  "UNKNOWN": 0
                },
                "jobs": [],
                "limit": 20,
                "rule": "ALL_DESC"
              },
              "parent_msg_id": "e3a8693f-d649-45d8-9573-3704b03bcfd9"
            },
            "text/plain": "StatementMeta(a30545b6-b56d-480e-96fd-847dfba9cab9, 9, 10, Finished, Available)"
          },
          "metadata": {}
        }
      ],
      "execution_count": 5,
      "metadata": {
        "jupyter": {
          "source_hidden": false,
          "outputs_hidden": false
        },
        "nteract": {
          "transient": {
            "deleting": false
          }
        },
        "gather": {
          "logged": 1711314658871
        }
      }
    },
    {
      "cell_type": "code",
      "source": [
        "MAX_LENGTH = math.ceil((X_train.apply(lambda x: len(str(x).split())).mean()))+2\n",
        "MAX_LENGTH"
      ],
      "outputs": [
        {
          "output_type": "display_data",
          "data": {
            "application/vnd.livy.statement-meta+json": {
              "spark_pool": "a30545b6-b56d-480e-96fd-847dfba9cab9",
              "session_id": "9",
              "statement_id": 11,
              "state": "finished",
              "livy_statement_state": "available",
              "queued_time": "2024-03-24T21:10:38.565731Z",
              "session_start_time": null,
              "execution_start_time": "2024-03-24T21:10:57.1031009Z",
              "execution_finish_time": "2024-03-24T21:10:57.3760569Z",
              "spark_jobs": {
                "numbers": {
                  "FAILED": 0,
                  "SUCCEEDED": 0,
                  "RUNNING": 0,
                  "UNKNOWN": 0
                },
                "jobs": [],
                "limit": 20,
                "rule": "ALL_DESC"
              },
              "parent_msg_id": "9d9b1cbb-67bf-46fd-94a0-462d73d5ac44"
            },
            "text/plain": "StatementMeta(a30545b6-b56d-480e-96fd-847dfba9cab9, 9, 11, Finished, Available)"
          },
          "metadata": {}
        },
        {
          "output_type": "execute_result",
          "execution_count": 21,
          "data": {
            "text/plain": "112"
          },
          "metadata": {}
        }
      ],
      "execution_count": 6,
      "metadata": {
        "jupyter": {
          "source_hidden": false,
          "outputs_hidden": false
        },
        "nteract": {
          "transient": {
            "deleting": false
          }
        },
        "gather": {
          "logged": 1711314659395
        }
      }
    },
    {
      "cell_type": "code",
      "source": [
        "PAD_TOKEN = \"<|pad|>\"\n",
        "EOS_TOKEN = \"<|endoftext|>\"\n",
        "\n",
        "# this will download and initialize the pre trained tokenizer\n",
        "tokenizer = GPT2Tokenizer.from_pretrained(\"gpt2\",\n",
        "    pad_token=PAD_TOKEN,\n",
        "    eos_token=EOS_TOKEN,\n",
        "    max_length=MAX_LENGTH,\n",
        "    is_split_into_words=True)"
      ],
      "outputs": [
        {
          "output_type": "display_data",
          "data": {
            "application/vnd.livy.statement-meta+json": {
              "spark_pool": "a30545b6-b56d-480e-96fd-847dfba9cab9",
              "session_id": "9",
              "statement_id": 12,
              "state": "finished",
              "livy_statement_state": "available",
              "queued_time": "2024-03-24T21:10:38.9717619Z",
              "session_start_time": null,
              "execution_start_time": "2024-03-24T21:10:57.4768386Z",
              "execution_finish_time": "2024-03-24T21:10:58.2639367Z",
              "spark_jobs": {
                "numbers": {
                  "FAILED": 0,
                  "SUCCEEDED": 0,
                  "RUNNING": 0,
                  "UNKNOWN": 0
                },
                "jobs": [],
                "limit": 20,
                "rule": "ALL_DESC"
              },
              "parent_msg_id": "8815611f-2f1c-495c-bf98-e4bb09248e12"
            },
            "text/plain": "StatementMeta(a30545b6-b56d-480e-96fd-847dfba9cab9, 9, 12, Finished, Available)"
          },
          "metadata": {}
        }
      ],
      "execution_count": 7,
      "metadata": {
        "jupyter": {
          "source_hidden": false,
          "outputs_hidden": false
        },
        "nteract": {
          "transient": {
            "deleting": false
          }
        },
        "gather": {
          "logged": 1711314660190
        }
      }
    },
    {
      "cell_type": "code",
      "source": [
        "X_train = [str(ex) + EOS_TOKEN for ex in X_train]\n",
        "X_test = [str(ex) + EOS_TOKEN for ex in X_test]"
      ],
      "outputs": [
        {
          "output_type": "display_data",
          "data": {
            "application/vnd.livy.statement-meta+json": {
              "spark_pool": "a30545b6-b56d-480e-96fd-847dfba9cab9",
              "session_id": "9",
              "statement_id": 13,
              "state": "finished",
              "livy_statement_state": "available",
              "queued_time": "2024-03-24T21:10:39.8389507Z",
              "session_start_time": null,
              "execution_start_time": "2024-03-24T21:10:58.3661829Z",
              "execution_finish_time": "2024-03-24T21:10:58.6724856Z",
              "spark_jobs": {
                "numbers": {
                  "FAILED": 0,
                  "SUCCEEDED": 0,
                  "RUNNING": 0,
                  "UNKNOWN": 0
                },
                "jobs": [],
                "limit": 20,
                "rule": "ALL_DESC"
              },
              "parent_msg_id": "f6e85e7a-db39-49ab-b032-62d7eba4bbd6"
            },
            "text/plain": "StatementMeta(a30545b6-b56d-480e-96fd-847dfba9cab9, 9, 13, Finished, Available)"
          },
          "metadata": {}
        }
      ],
      "execution_count": 8,
      "metadata": {
        "jupyter": {
          "source_hidden": false,
          "outputs_hidden": false
        },
        "nteract": {
          "transient": {
            "deleting": false
          }
        },
        "gather": {
          "logged": 1711314660648
        }
      }
    },
    {
      "cell_type": "code",
      "source": [
        "X_train_ = [tokenizer(str(x), return_tensors='tf', max_length=MAX_LENGTH, truncation=True, pad_to_max_length=True, add_special_tokens=True)['input_ids'] for x in X_train]\n",
        "X_test_ = [tokenizer(str(x), return_tensors='tf', max_length=MAX_LENGTH, truncation=True, pad_to_max_length=True, add_special_tokens=True)['input_ids'] for x in X_test]\n",
        "\n",
        "X_train_in = tf.squeeze(tf.convert_to_tensor(X_train_), axis=1)\n",
        "X_test_in = tf.squeeze(tf.convert_to_tensor(X_test_), axis=1)"
      ],
      "outputs": [
        {
          "output_type": "display_data",
          "data": {
            "application/vnd.livy.statement-meta+json": {
              "spark_pool": "a30545b6-b56d-480e-96fd-847dfba9cab9",
              "session_id": "9",
              "statement_id": 14,
              "state": "finished",
              "livy_statement_state": "available",
              "queued_time": "2024-03-24T21:10:40.0565691Z",
              "session_start_time": null,
              "execution_start_time": "2024-03-24T21:10:58.77261Z",
              "execution_finish_time": "2024-03-24T21:11:02.2660556Z",
              "spark_jobs": {
                "numbers": {
                  "FAILED": 0,
                  "SUCCEEDED": 0,
                  "RUNNING": 0,
                  "UNKNOWN": 0
                },
                "jobs": [],
                "limit": 20,
                "rule": "ALL_DESC"
              },
              "parent_msg_id": "c3eb8d7a-ac91-4b01-8597-4d0d3911ecb2"
            },
            "text/plain": "StatementMeta(a30545b6-b56d-480e-96fd-847dfba9cab9, 9, 14, Finished, Available)"
          },
          "metadata": {}
        },
        {
          "output_type": "stream",
          "name": "stderr",
          "text": "/home/trusted-service-user/cluster-env/env/lib/python3.10/site-packages/transformers/tokenization_utils_base.py:2688: FutureWarning: The `pad_to_max_length` argument is deprecated and will be removed in a future version, use `padding=True` or `padding='longest'` to pad to the longest sequence in the batch, or use `padding='max_length'` to pad to a max length. In this case, you can give a specific length with `max_length` (e.g. `max_length=45`) or leave max_length to None to pad to the maximal input size of the model (e.g. 512 for Bert).\n  warnings.warn(\n2024-03-24 21:10:58.779663: I tensorflow/core/platform/cpu_feature_guard.cc:193] This TensorFlow binary is optimized with oneAPI Deep Neural Network Library (oneDNN) to use the following CPU instructions in performance-critical operations:  SSE4.1 SSE4.2 AVX AVX2 AVX512F FMA\nTo enable them in other operations, rebuild TensorFlow with the appropriate compiler flags.\n2024-03-24 21:10:58.780021: I tensorflow/core/common_runtime/process_util.cc:146] Creating new thread pool with default inter op setting: 2. Tune using inter_op_parallelism_threads for best performance.\n"
        }
      ],
      "execution_count": 9,
      "metadata": {
        "jupyter": {
          "source_hidden": false,
          "outputs_hidden": false
        },
        "nteract": {
          "transient": {
            "deleting": false
          }
        },
        "gather": {
          "logged": 1711314663817
        }
      }
    },
    {
      "cell_type": "code",
      "source": [
        "X_train_in[0]"
      ],
      "outputs": [
        {
          "output_type": "display_data",
          "data": {
            "application/vnd.livy.statement-meta+json": {
              "spark_pool": "a30545b6-b56d-480e-96fd-847dfba9cab9",
              "session_id": "9",
              "statement_id": 15,
              "state": "finished",
              "livy_statement_state": "available",
              "queued_time": "2024-03-24T21:10:40.2398843Z",
              "session_start_time": null,
              "execution_start_time": "2024-03-24T21:11:02.3810364Z",
              "execution_finish_time": "2024-03-24T21:11:02.6613411Z",
              "spark_jobs": {
                "numbers": {
                  "FAILED": 0,
                  "SUCCEEDED": 0,
                  "RUNNING": 0,
                  "UNKNOWN": 0
                },
                "jobs": [],
                "limit": 20,
                "rule": "ALL_DESC"
              },
              "parent_msg_id": "be76e47e-cbac-4433-82c0-e24f3f836d92"
            },
            "text/plain": "StatementMeta(a30545b6-b56d-480e-96fd-847dfba9cab9, 9, 15, Finished, Available)"
          },
          "metadata": {}
        },
        {
          "output_type": "execute_result",
          "execution_count": 29,
          "data": {
            "text/plain": "<tf.Tensor: shape=(112,), dtype=int32, numpy=\narray([16190, 10732,   281, 22284, 21559,  3081,  1626,  2405,    13,\n         220,  2773,  3925,   423,   407, 45569,   428,  3721,    13,\n         220,  2773,  3925,   466,   407,  6537,   326,   257,  2829,\n        1487,   460,  2251,   257,  3236, 13389,    13,   220, 10928,\n         345,  1265,   281,  1593,  3785,   329,  5608,   878,   673,\n         393,   339,  1364,  3240,    30,   220,  5334,  5608,   561,\n         307,  4847,   546,  1204,   326,   345,  1541,  2993,    11,\n         475,  9775, 16453,    13,  1318,   389,  2829, 33099,   284,\n        1061,   326,   460,   787,   345,   257,  1365,  1048,  1626,\n         534,   898,  2951,    13,    38,   571,  2596,  3544,   383,\n       13583, 25009,   436, 28485,   284, 19128,   268,  7183,   351,\n        2829, 10815,   484,   460,   779,   284,  2107,   257,   517,\n        5899,   290,  8768,  1204], dtype=int32)>"
          },
          "metadata": {}
        }
      ],
      "execution_count": 10,
      "metadata": {
        "jupyter": {
          "source_hidden": false,
          "outputs_hidden": false
        },
        "nteract": {
          "transient": {
            "deleting": false
          }
        },
        "gather": {
          "logged": 1711314664409
        }
      }
    },
    {
      "cell_type": "code",
      "source": [
        "X_train_mask_ = [tokenizer(str(x), return_tensors='tf', max_length=MAX_LENGTH, truncation=True, pad_to_max_length=True, add_special_tokens=True)[\"attention_mask\"] for x in X_train]\n",
        "X_test_mask_ = [tokenizer(str(x), return_tensors='tf', max_length=MAX_LENGTH, truncation=True, pad_to_max_length=True, add_special_tokens=True)[\"attention_mask\"] for x in X_test]\n",
        "\n",
        "X_train_mask = tf.squeeze(tf.convert_to_tensor(X_train_mask_), axis=1)\n",
        "X_test_mask = tf.squeeze(tf.convert_to_tensor(X_test_mask_), axis=1)"
      ],
      "outputs": [
        {
          "output_type": "display_data",
          "data": {
            "application/vnd.livy.statement-meta+json": {
              "spark_pool": "a30545b6-b56d-480e-96fd-847dfba9cab9",
              "session_id": "9",
              "statement_id": 16,
              "state": "finished",
              "livy_statement_state": "available",
              "queued_time": "2024-03-24T21:10:40.4227263Z",
              "session_start_time": null,
              "execution_start_time": "2024-03-24T21:11:02.77277Z",
              "execution_finish_time": "2024-03-24T21:11:04.2599295Z",
              "spark_jobs": {
                "numbers": {
                  "FAILED": 0,
                  "SUCCEEDED": 0,
                  "RUNNING": 0,
                  "UNKNOWN": 0
                },
                "jobs": [],
                "limit": 20,
                "rule": "ALL_DESC"
              },
              "parent_msg_id": "a6f278e0-4735-4ea5-b6b6-b9fc0235743b"
            },
            "text/plain": "StatementMeta(a30545b6-b56d-480e-96fd-847dfba9cab9, 9, 16, Finished, Available)"
          },
          "metadata": {}
        }
      ],
      "execution_count": 11,
      "metadata": {
        "jupyter": {
          "source_hidden": false,
          "outputs_hidden": false
        },
        "nteract": {
          "transient": {
            "deleting": false
          }
        },
        "gather": {
          "logged": 1711314666594
        }
      }
    },
    {
      "cell_type": "code",
      "source": [
        "model = TFGPT2Model.from_pretrained(\"gpt2\", use_cache=False,\n",
        "        pad_token_id=tokenizer.pad_token_id,\n",
        "        eos_token_id=tokenizer.eos_token_id)\n",
        "model.training = True"
      ],
      "outputs": [
        {
          "output_type": "display_data",
          "data": {
            "application/vnd.livy.statement-meta+json": {
              "spark_pool": "a30545b6-b56d-480e-96fd-847dfba9cab9",
              "session_id": "9",
              "statement_id": 17,
              "state": "finished",
              "livy_statement_state": "available",
              "queued_time": "2024-03-24T21:10:40.604657Z",
              "session_start_time": null,
              "execution_start_time": "2024-03-24T21:11:04.3733896Z",
              "execution_finish_time": "2024-03-24T21:11:07.8069131Z",
              "spark_jobs": {
                "numbers": {
                  "FAILED": 0,
                  "SUCCEEDED": 0,
                  "RUNNING": 0,
                  "UNKNOWN": 0
                },
                "jobs": [],
                "limit": 20,
                "rule": "ALL_DESC"
              },
              "parent_msg_id": "6a7bbd04-a9a8-4840-9834-a1600ad52598"
            },
            "text/plain": "StatementMeta(a30545b6-b56d-480e-96fd-847dfba9cab9, 9, 17, Finished, Available)"
          },
          "metadata": {}
        },
        {
          "output_type": "stream",
          "name": "stderr",
          "text": "All PyTorch model weights were used when initializing TFGPT2Model.\n\nAll the weights of TFGPT2Model were initialized from the PyTorch model.\nIf your task is similar to the task the model of the checkpoint was trained on, you can already use TFGPT2Model for predictions without further training.\n"
        }
      ],
      "execution_count": 12,
      "metadata": {
        "jupyter": {
          "source_hidden": false,
          "outputs_hidden": false
        },
        "nteract": {
          "transient": {
            "deleting": false
          }
        },
        "gather": {
          "logged": 1711314670392
        }
      }
    },
    {
      "cell_type": "code",
      "source": [
        "model.resize_token_embeddings(len(tokenizer))"
      ],
      "outputs": [
        {
          "output_type": "display_data",
          "data": {
            "application/vnd.livy.statement-meta+json": {
              "spark_pool": "a30545b6-b56d-480e-96fd-847dfba9cab9",
              "session_id": "9",
              "statement_id": 18,
              "state": "finished",
              "livy_statement_state": "available",
              "queued_time": "2024-03-24T21:10:40.7759125Z",
              "session_start_time": null,
              "execution_start_time": "2024-03-24T21:11:07.9145835Z",
              "execution_finish_time": "2024-03-24T21:11:08.7142648Z",
              "spark_jobs": {
                "numbers": {
                  "FAILED": 0,
                  "SUCCEEDED": 0,
                  "RUNNING": 0,
                  "UNKNOWN": 0
                },
                "jobs": [],
                "limit": 20,
                "rule": "ALL_DESC"
              },
              "parent_msg_id": "ac19d8e0-246a-45d5-a836-dda043d9f625"
            },
            "text/plain": "StatementMeta(a30545b6-b56d-480e-96fd-847dfba9cab9, 9, 18, Finished, Available)"
          },
          "metadata": {}
        },
        {
          "output_type": "execute_result",
          "execution_count": 35,
          "data": {
            "text/plain": "<keras.layers.core.embedding.Embedding at 0x7fa441fe6f20>"
          },
          "metadata": {}
        }
      ],
      "execution_count": 13,
      "metadata": {
        "jupyter": {
          "source_hidden": false,
          "outputs_hidden": false
        },
        "nteract": {
          "transient": {
            "deleting": false
          }
        },
        "gather": {
          "logged": 1711314671362
        }
      }
    },
    {
      "cell_type": "code",
      "source": [
        "for layer in model.layers:\n",
        "    layer.trainable = False"
      ],
      "outputs": [
        {
          "output_type": "display_data",
          "data": {
            "application/vnd.livy.statement-meta+json": {
              "spark_pool": "a30545b6-b56d-480e-96fd-847dfba9cab9",
              "session_id": "9",
              "statement_id": 19,
              "state": "finished",
              "livy_statement_state": "available",
              "queued_time": "2024-03-24T21:10:40.939453Z",
              "session_start_time": null,
              "execution_start_time": "2024-03-24T21:11:08.8240945Z",
              "execution_finish_time": "2024-03-24T21:11:09.1155987Z",
              "spark_jobs": {
                "numbers": {
                  "FAILED": 0,
                  "SUCCEEDED": 0,
                  "RUNNING": 0,
                  "UNKNOWN": 0
                },
                "jobs": [],
                "limit": 20,
                "rule": "ALL_DESC"
              },
              "parent_msg_id": "504112ab-f7f8-41cf-9df6-a71a649b9977"
            },
            "text/plain": "StatementMeta(a30545b6-b56d-480e-96fd-847dfba9cab9, 9, 19, Finished, Available)"
          },
          "metadata": {}
        }
      ],
      "execution_count": 14,
      "metadata": {
        "jupyter": {
          "source_hidden": false,
          "outputs_hidden": false
        },
        "nteract": {
          "transient": {
            "deleting": false
          }
        },
        "gather": {
          "logged": 1711314671811
        }
      }
    },
    {
      "cell_type": "code",
      "source": [
        "model.summary()"
      ],
      "outputs": [
        {
          "output_type": "display_data",
          "data": {
            "application/vnd.livy.statement-meta+json": {
              "spark_pool": "a30545b6-b56d-480e-96fd-847dfba9cab9",
              "session_id": "9",
              "statement_id": 20,
              "state": "finished",
              "livy_statement_state": "available",
              "queued_time": "2024-03-24T21:10:41.0767447Z",
              "session_start_time": null,
              "execution_start_time": "2024-03-24T21:11:09.2190132Z",
              "execution_finish_time": "2024-03-24T21:11:09.5028184Z",
              "spark_jobs": {
                "numbers": {
                  "FAILED": 0,
                  "SUCCEEDED": 0,
                  "RUNNING": 0,
                  "UNKNOWN": 0
                },
                "jobs": [],
                "limit": 20,
                "rule": "ALL_DESC"
              },
              "parent_msg_id": "02769b05-1d21-4566-aba7-2587abb44624"
            },
            "text/plain": "StatementMeta(a30545b6-b56d-480e-96fd-847dfba9cab9, 9, 20, Finished, Available)"
          },
          "metadata": {}
        },
        {
          "output_type": "stream",
          "name": "stdout",
          "text": "Model: \"tfgpt2_model\"\n_________________________________________________________________\n Layer (type)                Output Shape              Param #   \n=================================================================\n transformer (TFGPT2MainLaye  multiple                 124440576 \n r)                                                              \n                                                                 \n=================================================================\nTotal params: 124,440,576\nTrainable params: 0\nNon-trainable params: 124,440,576\n_________________________________________________________________\n"
        }
      ],
      "execution_count": 15,
      "metadata": {
        "jupyter": {
          "source_hidden": false,
          "outputs_hidden": false
        },
        "nteract": {
          "transient": {
            "deleting": false
          }
        },
        "gather": {
          "logged": 1711314672346
        }
      }
    },
    {
      "cell_type": "code",
      "source": [
        "input = tf.keras.layers.Input(shape=(None,), dtype='int32')\n",
        "mask = tf.keras.layers.Input(shape=(None,), dtype='int32')\n",
        "x = model(input, attention_mask=mask)\n",
        "#x = x.last_hidden_state[:, -1]\n",
        "x = tf.reduce_mean(x.last_hidden_state, axis=1)\n",
        "x = tf.keras.layers.Dense(16, activation='relu')(x)\n",
        "x = tf.keras.layers.Dropout(0.3)(x)\n",
        "output = tf.keras.layers.Dense(3, activation='softmax')(x)"
      ],
      "outputs": [
        {
          "output_type": "display_data",
          "data": {
            "application/vnd.livy.statement-meta+json": {
              "spark_pool": "a30545b6-b56d-480e-96fd-847dfba9cab9",
              "session_id": "9",
              "statement_id": 21,
              "state": "finished",
              "livy_statement_state": "available",
              "queued_time": "2024-03-24T21:10:41.2604603Z",
              "session_start_time": null,
              "execution_start_time": "2024-03-24T21:11:09.6213304Z",
              "execution_finish_time": "2024-03-24T21:11:15.8621151Z",
              "spark_jobs": {
                "numbers": {
                  "FAILED": 0,
                  "SUCCEEDED": 0,
                  "RUNNING": 0,
                  "UNKNOWN": 0
                },
                "jobs": [],
                "limit": 20,
                "rule": "ALL_DESC"
              },
              "parent_msg_id": "454bb597-529e-4210-ba3d-31356f62c42a"
            },
            "text/plain": "StatementMeta(a30545b6-b56d-480e-96fd-847dfba9cab9, 9, 21, Finished, Available)"
          },
          "metadata": {}
        }
      ],
      "execution_count": 16,
      "metadata": {
        "jupyter": {
          "source_hidden": false,
          "outputs_hidden": false
        },
        "nteract": {
          "transient": {
            "deleting": false
          }
        },
        "gather": {
          "logged": 1711314677551
        }
      }
    },
    {
      "cell_type": "code",
      "source": [
        "clf = tf.keras.Model([input, mask], output)\n",
        "     \n",
        "\n"
      ],
      "outputs": [
        {
          "output_type": "display_data",
          "data": {
            "application/vnd.livy.statement-meta+json": {
              "spark_pool": "a30545b6-b56d-480e-96fd-847dfba9cab9",
              "session_id": "9",
              "statement_id": 22,
              "state": "finished",
              "livy_statement_state": "available",
              "queued_time": "2024-03-24T21:10:41.4010619Z",
              "session_start_time": null,
              "execution_start_time": "2024-03-24T21:11:15.9652279Z",
              "execution_finish_time": "2024-03-24T21:11:16.2281795Z",
              "spark_jobs": {
                "numbers": {
                  "FAILED": 0,
                  "SUCCEEDED": 0,
                  "RUNNING": 0,
                  "UNKNOWN": 0
                },
                "jobs": [],
                "limit": 20,
                "rule": "ALL_DESC"
              },
              "parent_msg_id": "08dc05cb-a068-4838-8bc5-2e4ef009de6f"
            },
            "text/plain": "StatementMeta(a30545b6-b56d-480e-96fd-847dfba9cab9, 9, 22, Finished, Available)"
          },
          "metadata": {}
        }
      ],
      "execution_count": 17,
      "metadata": {
        "jupyter": {
          "source_hidden": false,
          "outputs_hidden": false
        },
        "nteract": {
          "transient": {
            "deleting": false
          }
        },
        "gather": {
          "logged": 1711314678134
        }
      }
    },
    {
      "cell_type": "code",
      "source": [
        "clf.summary()"
      ],
      "outputs": [
        {
          "output_type": "display_data",
          "data": {
            "application/vnd.livy.statement-meta+json": {
              "spark_pool": "a30545b6-b56d-480e-96fd-847dfba9cab9",
              "session_id": "9",
              "statement_id": 23,
              "state": "finished",
              "livy_statement_state": "available",
              "queued_time": "2024-03-24T21:10:41.5333399Z",
              "session_start_time": null,
              "execution_start_time": "2024-03-24T21:11:16.3364281Z",
              "execution_finish_time": "2024-03-24T21:11:16.6223728Z",
              "spark_jobs": {
                "numbers": {
                  "FAILED": 0,
                  "SUCCEEDED": 0,
                  "RUNNING": 0,
                  "UNKNOWN": 0
                },
                "jobs": [],
                "limit": 20,
                "rule": "ALL_DESC"
              },
              "parent_msg_id": "6a81782f-decb-44eb-9be0-b556f448e0c7"
            },
            "text/plain": "StatementMeta(a30545b6-b56d-480e-96fd-847dfba9cab9, 9, 23, Finished, Available)"
          },
          "metadata": {}
        },
        {
          "output_type": "stream",
          "name": "stdout",
          "text": "Model: \"model\"\n__________________________________________________________________________________________________\n Layer (type)                   Output Shape         Param #     Connected to                     \n==================================================================================================\n input_1 (InputLayer)           [(None, None)]       0           []                               \n                                                                                                  \n input_2 (InputLayer)           [(None, None)]       0           []                               \n                                                                                                  \n tfgpt2_model (TFGPT2Model)     TFBaseModelOutputWi  124440576   ['input_1[0][0]',                \n                                thPastAndCrossAtten               'input_2[0][0]']                \n                                tions(last_hidden_s                                               \n                                tate=(None, None, 7                                               \n                                68),                                                              \n                                 past_key_values=No                                               \n                                ne, hidden_states=N                                               \n                                one, attentions=Non                                               \n                                e, cross_attentions                                               \n                                =None)                                                            \n                                                                                                  \n tf.math.reduce_mean (TFOpLambd  (None, 768)         0           ['tfgpt2_model[0][0]']           \n a)                                                                                               \n                                                                                                  \n dense (Dense)                  (None, 16)           12304       ['tf.math.reduce_mean[0][0]']    \n                                                                                                  \n dropout_37 (Dropout)           (None, 16)           0           ['dense[0][0]']                  \n                                                                                                  \n dense_1 (Dense)                (None, 3)            51          ['dropout_37[0][0]']             \n                                                                                                  \n==================================================================================================\nTotal params: 124,452,931\nTrainable params: 12,355\nNon-trainable params: 124,440,576\n__________________________________________________________________________________________________\n"
        }
      ],
      "execution_count": 18,
      "metadata": {
        "jupyter": {
          "source_hidden": false,
          "outputs_hidden": false
        },
        "nteract": {
          "transient": {
            "deleting": false
          }
        },
        "gather": {
          "logged": 1711314678748
        }
      }
    },
    {
      "cell_type": "code",
      "source": [
        "base_learning_rate = 0.0005\n",
        "optimizer=tf.keras.optimizers.Adam(learning_rate=base_learning_rate)\n",
        "#loss=tf.keras.losses.BinaryCrossentropy()\n",
        "loss=tf.keras.losses.SparseCategoricalCrossentropy()\n",
        "\n",
        "clf.compile(optimizer=optimizer, loss=loss, metrics=['accuracy'])"
      ],
      "outputs": [
        {
          "output_type": "display_data",
          "data": {
            "application/vnd.livy.statement-meta+json": {
              "spark_pool": "a30545b6-b56d-480e-96fd-847dfba9cab9",
              "session_id": "9",
              "statement_id": 24,
              "state": "finished",
              "livy_statement_state": "available",
              "queued_time": "2024-03-24T21:10:41.6610778Z",
              "session_start_time": null,
              "execution_start_time": "2024-03-24T21:11:16.7293171Z",
              "execution_finish_time": "2024-03-24T21:11:17.0253398Z",
              "spark_jobs": {
                "numbers": {
                  "FAILED": 0,
                  "SUCCEEDED": 0,
                  "RUNNING": 0,
                  "UNKNOWN": 0
                },
                "jobs": [],
                "limit": 20,
                "rule": "ALL_DESC"
              },
              "parent_msg_id": "34eb274e-8c3f-4ac0-9f95-551e11baf637"
            },
            "text/plain": "StatementMeta(a30545b6-b56d-480e-96fd-847dfba9cab9, 9, 24, Finished, Available)"
          },
          "metadata": {}
        }
      ],
      "execution_count": 19,
      "metadata": {
        "jupyter": {
          "source_hidden": false,
          "outputs_hidden": false
        },
        "nteract": {
          "transient": {
            "deleting": false
          }
        },
        "gather": {
          "logged": 1711314679228
        }
      }
    },
    {
      "cell_type": "code",
      "source": [
        "callbacks = tf.keras.callbacks.EarlyStopping(\n",
        "        monitor=\"accuracy\", verbose=1, patience=3, restore_best_weights=True)"
      ],
      "outputs": [
        {
          "output_type": "display_data",
          "data": {
            "application/vnd.livy.statement-meta+json": {
              "spark_pool": "a30545b6-b56d-480e-96fd-847dfba9cab9",
              "session_id": "9",
              "statement_id": 25,
              "state": "finished",
              "livy_statement_state": "available",
              "queued_time": "2024-03-24T21:10:41.7706379Z",
              "session_start_time": null,
              "execution_start_time": "2024-03-24T21:11:17.1391218Z",
              "execution_finish_time": "2024-03-24T21:11:17.4347486Z",
              "spark_jobs": {
                "numbers": {
                  "FAILED": 0,
                  "SUCCEEDED": 0,
                  "RUNNING": 0,
                  "UNKNOWN": 0
                },
                "jobs": [],
                "limit": 20,
                "rule": "ALL_DESC"
              },
              "parent_msg_id": "551af116-57d0-4bfd-9dcc-737264a6c23d"
            },
            "text/plain": "StatementMeta(a30545b6-b56d-480e-96fd-847dfba9cab9, 9, 25, Finished, Available)"
          },
          "metadata": {}
        }
      ],
      "execution_count": 20,
      "metadata": {
        "jupyter": {
          "source_hidden": false,
          "outputs_hidden": false
        },
        "nteract": {
          "transient": {
            "deleting": false
          }
        },
        "gather": {
          "logged": 1711314679753
        }
      }
    },
    {
      "cell_type": "code",
      "source": [
        "def map_sentiment(value):\n",
        "    if value in [1, 2]:\n",
        "        return 0\n",
        "    elif value == 3:\n",
        "        return 1\n",
        "    elif value in [4, 5]:\n",
        "        return 2\n",
        "    else:\n",
        "        # Handle other cases, if needed\n",
        "        return None  # or any default value you prefer\n"
      ],
      "outputs": [
        {
          "output_type": "display_data",
          "data": {
            "application/vnd.livy.statement-meta+json": {
              "spark_pool": "a30545b6-b56d-480e-96fd-847dfba9cab9",
              "session_id": "9",
              "statement_id": 26,
              "state": "finished",
              "livy_statement_state": "available",
              "queued_time": "2024-03-24T21:10:41.9319493Z",
              "session_start_time": null,
              "execution_start_time": "2024-03-24T21:11:17.5495968Z",
              "execution_finish_time": "2024-03-24T21:11:17.8448935Z",
              "spark_jobs": {
                "numbers": {
                  "FAILED": 0,
                  "SUCCEEDED": 0,
                  "RUNNING": 0,
                  "UNKNOWN": 0
                },
                "jobs": [],
                "limit": 20,
                "rule": "ALL_DESC"
              },
              "parent_msg_id": "aad48181-f168-4628-87cf-7eca55555aeb"
            },
            "text/plain": "StatementMeta(a30545b6-b56d-480e-96fd-847dfba9cab9, 9, 26, Finished, Available)"
          },
          "metadata": {}
        }
      ],
      "execution_count": 21,
      "metadata": {
        "jupyter": {
          "source_hidden": false,
          "outputs_hidden": false
        },
        "nteract": {
          "transient": {
            "deleting": false
          }
        },
        "gather": {
          "logged": 1711314680255
        }
      }
    },
    {
      "cell_type": "code",
      "source": [
        "y_train_ = y_train.map(map_sentiment)\n",
        "y_test_ = y_test.map(map_sentiment)"
      ],
      "outputs": [
        {
          "output_type": "display_data",
          "data": {
            "application/vnd.livy.statement-meta+json": {
              "spark_pool": "a30545b6-b56d-480e-96fd-847dfba9cab9",
              "session_id": "9",
              "statement_id": 27,
              "state": "finished",
              "livy_statement_state": "available",
              "queued_time": "2024-03-24T21:10:42.1356381Z",
              "session_start_time": null,
              "execution_start_time": "2024-03-24T21:11:17.9445492Z",
              "execution_finish_time": "2024-03-24T21:11:18.2359778Z",
              "spark_jobs": {
                "numbers": {
                  "FAILED": 0,
                  "SUCCEEDED": 0,
                  "RUNNING": 0,
                  "UNKNOWN": 0
                },
                "jobs": [],
                "limit": 20,
                "rule": "ALL_DESC"
              },
              "parent_msg_id": "c7eb127d-f8bf-4ace-9a27-dd3801d56faa"
            },
            "text/plain": "StatementMeta(a30545b6-b56d-480e-96fd-847dfba9cab9, 9, 27, Finished, Available)"
          },
          "metadata": {}
        }
      ],
      "execution_count": 22,
      "metadata": {
        "jupyter": {
          "source_hidden": false,
          "outputs_hidden": false
        },
        "nteract": {
          "transient": {
            "deleting": false
          }
        },
        "gather": {
          "logged": 1711314680742
        }
      }
    },
    {
      "cell_type": "code",
      "source": [
        "y_train_in = tf.constant(y_train_, dtype=tf.int32)\n",
        "y_test_in = tf.constant(y_test_, dtype=tf.int32)\n"
      ],
      "outputs": [
        {
          "output_type": "display_data",
          "data": {
            "application/vnd.livy.statement-meta+json": {
              "spark_pool": "a30545b6-b56d-480e-96fd-847dfba9cab9",
              "session_id": "9",
              "statement_id": 28,
              "state": "finished",
              "livy_statement_state": "available",
              "queued_time": "2024-03-24T21:10:42.3982989Z",
              "session_start_time": null,
              "execution_start_time": "2024-03-24T21:11:18.3459722Z",
              "execution_finish_time": "2024-03-24T21:11:18.6638803Z",
              "spark_jobs": {
                "numbers": {
                  "FAILED": 0,
                  "SUCCEEDED": 0,
                  "RUNNING": 0,
                  "UNKNOWN": 0
                },
                "jobs": [],
                "limit": 20,
                "rule": "ALL_DESC"
              },
              "parent_msg_id": "9e4a4660-6a8c-4841-963e-e5ebd64fd7a5"
            },
            "text/plain": "StatementMeta(a30545b6-b56d-480e-96fd-847dfba9cab9, 9, 28, Finished, Available)"
          },
          "metadata": {}
        }
      ],
      "execution_count": 23,
      "metadata": {
        "jupyter": {
          "source_hidden": false,
          "outputs_hidden": false
        },
        "nteract": {
          "transient": {
            "deleting": false
          }
        },
        "gather": {
          "logged": 1711314681229
        }
      }
    },
    {
      "cell_type": "code",
      "source": [
        "tf.config.experimental_run_functions_eagerly(True)"
      ],
      "outputs": [
        {
          "output_type": "display_data",
          "data": {
            "application/vnd.livy.statement-meta+json": {
              "spark_pool": "a30545b6-b56d-480e-96fd-847dfba9cab9",
              "session_id": "9",
              "statement_id": 29,
              "state": "finished",
              "livy_statement_state": "available",
              "queued_time": "2024-03-24T21:10:42.5548459Z",
              "session_start_time": null,
              "execution_start_time": "2024-03-24T21:11:18.7692792Z",
              "execution_finish_time": "2024-03-24T21:11:19.0750593Z",
              "spark_jobs": {
                "numbers": {
                  "FAILED": 0,
                  "SUCCEEDED": 0,
                  "RUNNING": 0,
                  "UNKNOWN": 0
                },
                "jobs": [],
                "limit": 20,
                "rule": "ALL_DESC"
              },
              "parent_msg_id": "ca63283b-1fda-47db-a6bb-a301183f188b"
            },
            "text/plain": "StatementMeta(a30545b6-b56d-480e-96fd-847dfba9cab9, 9, 29, Finished, Available)"
          },
          "metadata": {}
        },
        {
          "output_type": "stream",
          "name": "stdout",
          "text": "From /tmp/ipykernel_4246/2874510872.py:1: experimental_run_functions_eagerly (from tensorflow.python.eager.def_function) is deprecated and will be removed in a future version.\nInstructions for updating:\nUse `tf.config.run_functions_eagerly` instead of the experimental version.\n"
        }
      ],
      "execution_count": 24,
      "metadata": {
        "jupyter": {
          "source_hidden": false,
          "outputs_hidden": false
        },
        "nteract": {
          "transient": {
            "deleting": false
          }
        },
        "gather": {
          "logged": 1711314681711
        }
      }
    },
    {
      "cell_type": "code",
      "source": [
        "history = clf.fit([X_train_in, X_train_mask], y_train_in, epochs=1, batch_size=32, validation_split=0.2, callbacks=callbacks)"
      ],
      "outputs": [
        {
          "output_type": "display_data",
          "data": {
            "application/vnd.livy.statement-meta+json": {
              "spark_pool": "a30545b6-b56d-480e-96fd-847dfba9cab9",
              "session_id": "9",
              "statement_id": 30,
              "state": "finished",
              "livy_statement_state": "available",
              "queued_time": "2024-03-24T21:10:42.7228966Z",
              "session_start_time": null,
              "execution_start_time": "2024-03-24T21:11:19.1909556Z",
              "execution_finish_time": "2024-03-24T21:17:39.4539649Z",
              "spark_jobs": {
                "numbers": {
                  "FAILED": 0,
                  "SUCCEEDED": 0,
                  "RUNNING": 0,
                  "UNKNOWN": 0
                },
                "jobs": [],
                "limit": 20,
                "rule": "ALL_DESC"
              },
              "parent_msg_id": "fd3f0f4e-5553-48d1-8db7-22d80426eedc"
            },
            "text/plain": "StatementMeta(a30545b6-b56d-480e-96fd-847dfba9cab9, 9, 30, Finished, Available)"
          },
          "metadata": {}
        },
        {
          "output_type": "stream",
          "name": "stderr",
          "text": "/home/trusted-service-user/cluster-env/env/lib/python3.10/site-packages/tensorflow/python/data/ops/structured_function.py:264: UserWarning: Even though the `tf.config.experimental_run_functions_eagerly` option is set, this option does not apply to tf.data functions. To force eager execution of tf.data functions, please use `tf.data.experimental.enable_debug_mode()`.\n  warnings.warn(\n"
        },
        {
          "output_type": "stream",
          "name": "stdout",
          "text": "21/21 [==============================] - 379s 18s/step - loss: 9.5037 - accuracy: 0.1875 - val_loss: 1.1376 - val_accuracy: 0.5854\b\b\b\b\b\b\b\b\b\b\b\b\b\b\b\b\b\b\b\b\b\b\b\b\b\b\b\b\b\b\b\b\b\b\b\b\b\b\b\b\n"
        }
      ],
      "execution_count": 25,
      "metadata": {
        "jupyter": {
          "source_hidden": false,
          "outputs_hidden": false
        },
        "nteract": {
          "transient": {
            "deleting": false
          }
        },
        "gather": {
          "logged": 1711315061128
        }
      }
    },
    {
      "cell_type": "code",
      "source": [
        "clf.evaluate([X_test_in, X_test_mask], y_test_in)"
      ],
      "outputs": [
        {
          "output_type": "display_data",
          "data": {
            "application/vnd.livy.statement-meta+json": {
              "spark_pool": "a30545b6-b56d-480e-96fd-847dfba9cab9",
              "session_id": "9",
              "statement_id": 31,
              "state": "finished",
              "livy_statement_state": "available",
              "queued_time": "2024-03-24T21:21:39.7570214Z",
              "session_start_time": null,
              "execution_start_time": "2024-03-24T21:21:39.9001405Z",
              "execution_finish_time": "2024-03-24T21:22:22.5314636Z",
              "spark_jobs": {
                "numbers": {
                  "FAILED": 0,
                  "SUCCEEDED": 0,
                  "RUNNING": 0,
                  "UNKNOWN": 0
                },
                "jobs": [],
                "limit": 20,
                "rule": "ALL_DESC"
              },
              "parent_msg_id": "6a59df49-63d5-4760-8bfb-4157652240ad"
            },
            "text/plain": "StatementMeta(a30545b6-b56d-480e-96fd-847dfba9cab9, 9, 31, Finished, Available)"
          },
          "metadata": {}
        },
        {
          "output_type": "stream",
          "name": "stdout",
          "text": "7/7 [==============================] - 40s 6s/step - loss: 1.0131 - accuracy: 0.6650\b\b\b\b\b\b\b\b\b\b\b\b\b\b\b\b\b\b\b\b\b\b\b\b\b\b\b\b\b\b\b\b\b\b\b\b\b\b\b\b\b\b\b\b\b\b\b\b\b\b\b\b\b\b\b\b\b\b\b\b\b\b\b\b\b\b\b\b\b\b\b\b\b\b\b\b\b\b\n"
        },
        {
          "output_type": "execute_result",
          "execution_count": 61,
          "data": {
            "text/plain": "[1.013129711151123, 0.6650485396385193]"
          },
          "metadata": {}
        }
      ],
      "execution_count": 26,
      "metadata": {
        "jupyter": {
          "source_hidden": false,
          "outputs_hidden": false
        },
        "nteract": {
          "transient": {
            "deleting": false
          }
        },
        "gather": {
          "logged": 1711315344172
        }
      }
    },
    {
      "cell_type": "code",
      "source": [
        "clf.training = False\n",
        "y_pred = clf.predict([X_test_in, X_test_mask])"
      ],
      "outputs": [
        {
          "output_type": "display_data",
          "data": {
            "application/vnd.livy.statement-meta+json": {
              "spark_pool": "a30545b6-b56d-480e-96fd-847dfba9cab9",
              "session_id": "9",
              "statement_id": 32,
              "state": "submitted",
              "livy_statement_state": "running",
              "queued_time": "2024-03-24T21:23:01.05079Z",
              "session_start_time": null,
              "execution_start_time": "2024-03-24T21:23:01.1533629Z",
              "execution_finish_time": null,
              "spark_jobs": {
                "numbers": {
                  "FAILED": 0,
                  "SUCCEEDED": 0,
                  "RUNNING": 0,
                  "UNKNOWN": 0
                },
                "jobs": [],
                "limit": 20,
                "rule": "ALL_DESC"
              },
              "parent_msg_id": "c248f4c6-6385-431c-900c-9cdcf304baca"
            },
            "text/plain": "StatementMeta(a30545b6-b56d-480e-96fd-847dfba9cab9, 9, 32, Submitted, Running)"
          },
          "metadata": {}
        },
        {
          "output_type": "stream",
          "name": "stdout",
          "text": "4/7 [================>.............] - ETA: 18s\b\b\b\b\b\b\b\b\b\b\b\b\b\b\b\b\b\b\b\b\b\b\b\b\b\b\b\b\b\b\b\b\b\b\b\b\b\b\b\b\b\b\b\b\b\b\b\r5/7 [====================>.........] - ETA: 12s"
        }
      ],
      "execution_count": 27,
      "metadata": {
        "jupyter": {
          "source_hidden": false,
          "outputs_hidden": false
        },
        "nteract": {
          "transient": {
            "deleting": false
          }
        }
      }
    },
    {
      "cell_type": "code",
      "source": [
        "y_pred_out = tf.math.argmax(y_pred, axis=-1)\n",
        "y_pred_out"
      ],
      "outputs": [],
      "execution_count": null,
      "metadata": {
        "jupyter": {
          "source_hidden": false,
          "outputs_hidden": false
        },
        "nteract": {
          "transient": {
            "deleting": false
          }
        }
      }
    },
    {
      "cell_type": "code",
      "source": [
        "from matplotlib import pyplot as plt\n",
        "import seaborn as sns\n",
        "from sklearn.metrics import confusion_matrix\n",
        "from sklearn.metrics import classification_report"
      ],
      "outputs": [],
      "execution_count": null,
      "metadata": {
        "jupyter": {
          "source_hidden": false,
          "outputs_hidden": false
        },
        "nteract": {
          "transient": {
            "deleting": false
          }
        }
      }
    },
    {
      "cell_type": "code",
      "source": [
        "print(classification_report(y_test_in, y_pred_out))"
      ],
      "outputs": [],
      "execution_count": null,
      "metadata": {
        "jupyter": {
          "source_hidden": false,
          "outputs_hidden": false
        },
        "nteract": {
          "transient": {
            "deleting": false
          }
        }
      }
    },
    {
      "cell_type": "code",
      "source": [],
      "outputs": [],
      "execution_count": null,
      "metadata": {
        "jupyter": {
          "source_hidden": false,
          "outputs_hidden": false
        },
        "nteract": {
          "transient": {
            "deleting": false
          }
        }
      }
    }
  ],
  "metadata": {
    "kernelspec": {
      "name": "synapse_pyspark",
      "language": "Python",
      "display_name": "Synapse PySpark"
    },
    "language_info": {
      "name": "python",
      "version": "3.8.0",
      "mimetype": "text/x-python",
      "file_extension": ".py",
      "pygments_lexer": "ipython",
      "codemirror_mode": "ipython",
      "nbconvert_exporter": "python"
    },
    "microsoft": {
      "ms_spell_check": {
        "ms_spell_check_language": "en"
      }
    },
    "kernel_info": {
      "name": "synapse_pyspark"
    },
    "nteract": {
      "version": "nteract-front-end@1.0.0"
    }
  },
  "nbformat": 4,
  "nbformat_minor": 2
}